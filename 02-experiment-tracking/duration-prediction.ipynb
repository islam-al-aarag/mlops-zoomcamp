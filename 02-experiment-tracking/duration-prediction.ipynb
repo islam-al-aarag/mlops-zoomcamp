{
 "cells": [
  {
   "cell_type": "code",
   "execution_count": 23,
   "id": "4185cf91",
   "metadata": {},
   "outputs": [],
   "source": [
    "import pandas as pd\n",
    "import matplotlib.pyplot as plt\n",
    "import seaborn as sns"
   ]
  },
  {
   "cell_type": "code",
   "execution_count": 24,
   "id": "bf67d625",
   "metadata": {},
   "outputs": [],
   "source": [
    "from sklearn.feature_extraction import DictVectorizer\n",
    "from sklearn.linear_model import LinearRegression, Lasso\n",
    "from sklearn.metrics import mean_squared_error\n",
    "import xgboost"
   ]
  },
  {
   "cell_type": "code",
   "execution_count": 25,
   "id": "637ed76c",
   "metadata": {},
   "outputs": [],
   "source": [
    "import pickle"
   ]
  },
  {
   "cell_type": "code",
   "execution_count": 26,
   "id": "9c011918",
   "metadata": {},
   "outputs": [
    {
     "data": {
      "text/plain": [
       "<Experiment: artifact_location='/workspaces/mlops-zoomcamp/02-experiment-tracking/mlruns/1', creation_time=1716230354427, experiment_id='1', last_update_time=1716230354427, lifecycle_stage='active', name='nyc-taxi-experiment', tags={}>"
      ]
     },
     "execution_count": 26,
     "metadata": {},
     "output_type": "execute_result"
    }
   ],
   "source": [
    "import mlflow\n",
    "\n",
    "mlflow.set_tracking_uri(\"sqlite:///mlflow.db\")\n",
    "mlflow.set_experiment(\"nyc-taxi-experiment\")"
   ]
  },
  {
   "cell_type": "code",
   "execution_count": 27,
   "id": "579a1564",
   "metadata": {},
   "outputs": [],
   "source": [
    "def read_data(filename, pickup_time_column, dropoff_time_column, filter_data=True):\n",
    "    df = pd.read_parquet(filename)\n",
    "    \n",
    "    categorical = ['PULocationID', 'DOLocationID']\n",
    "    df[categorical] = df[categorical].astype(str)\n",
    "\n",
    "    df['duration'] = pd.to_datetime(df[dropoff_time_column]) - pd.to_datetime(df[pickup_time_column])\n",
    "    df.duration = df.duration.apply(lambda td: td.total_seconds() / 60)\n",
    "    \n",
    "    if filter_data:\n",
    "        df = df[(df.duration >= 1) & (df.duration <= 60)]\n",
    "    \n",
    "    return df"
   ]
  },
  {
   "cell_type": "code",
   "execution_count": 28,
   "id": "47f280a8",
   "metadata": {},
   "outputs": [],
   "source": [
    "def pre_process_data(df):\n",
    "    \n",
    "    df['PO_DO'] = df['PULocationID'] + '_' + df['DOLocationID']\n",
    "    \n",
    "    categorical = ['PO_DO'] #['PULocationID', 'DOLocationID']\n",
    "    numerical = ['trip_distance']\n",
    "    x_dict = df[categorical + numerical].to_dict(orient='records')\n",
    "    \n",
    "    target = 'duration'\n",
    "    y = df[target].values\n",
    "    \n",
    "    return x_dict, y"
   ]
  },
  {
   "cell_type": "code",
   "execution_count": 29,
   "id": "9a0554e7",
   "metadata": {},
   "outputs": [],
   "source": [
    "dv = DictVectorizer()\n",
    "\n",
    "df_train = read_data('../data/green_tripdata_2021-01.parquet', 'lpep_pickup_datetime', 'lpep_dropoff_datetime')\n",
    "train_dict, y_train = pre_process_data(df_train)\n",
    "x_train = dv.fit_transform(train_dict)\n",
    "\n",
    "df_val = read_data('../data/green_tripdata_2021-02.parquet', 'lpep_pickup_datetime', 'lpep_dropoff_datetime')\n",
    "val_dict, y_val = pre_process_data(df_val)\n",
    "x_val = dv.transform(val_dict)"
   ]
  },
  {
   "cell_type": "code",
   "execution_count": 8,
   "id": "57067844",
   "metadata": {},
   "outputs": [
    {
     "data": {
      "text/plain": [
       "LinearRegression()"
      ]
     },
     "execution_count": 8,
     "metadata": {},
     "output_type": "execute_result"
    }
   ],
   "source": [
    "lr = LinearRegression()\n",
    "lr.fit(x_train, y_train)"
   ]
  },
  {
   "cell_type": "code",
   "execution_count": 9,
   "id": "ad0f45ce",
   "metadata": {},
   "outputs": [
    {
     "name": "stderr",
     "output_type": "stream",
     "text": [
      "/home/codespace/anaconda3/lib/python3.9/site-packages/seaborn/distributions.py:2619: FutureWarning: `distplot` is a deprecated function and will be removed in a future version. Please adapt your code to use either `displot` (a figure-level function with similar flexibility) or `histplot` (an axes-level function for histograms).\n",
      "  warnings.warn(msg, FutureWarning)\n",
      "/home/codespace/anaconda3/lib/python3.9/site-packages/seaborn/distributions.py:2619: FutureWarning: `distplot` is a deprecated function and will be removed in a future version. Please adapt your code to use either `displot` (a figure-level function with similar flexibility) or `histplot` (an axes-level function for histograms).\n",
      "  warnings.warn(msg, FutureWarning)\n"
     ]
    },
    {
     "data": {
      "text/plain": [
       "<matplotlib.legend.Legend at 0x717c89c16940>"
      ]
     },
     "execution_count": 9,
     "metadata": {},
     "output_type": "execute_result"
    },
    {
     "data": {
      "image/png": "[encoded data removed]",
      "text/plain": [
       "<Figure size 432x288 with 1 Axes>"
      ]
     },
     "metadata": {
      "needs_background": "light"
     },
     "output_type": "display_data"
    }
   ],
   "source": [
    "y_pred = lr.predict(x_val)\n",
    "sns.distplot(y_val, label='actual')\n",
    "sns.distplot(y_pred, label='prediction')\n",
    "plt.legend()"
   ]
  },
  {
   "cell_type": "code",
   "execution_count": 10,
   "id": "e475c55b",
   "metadata": {},
   "outputs": [
    {
     "data": {
      "text/plain": [
       "7.479562160810692"
      ]
     },
     "execution_count": 10,
     "metadata": {},
     "output_type": "execute_result"
    }
   ],
   "source": [
    "mean_squared_error(y_val, y_pred, squared=False)"
   ]
  },
  {
   "cell_type": "code",
   "execution_count": 20,
   "id": "9c9b8372",
   "metadata": {},
   "outputs": [],
   "source": [
    "with open('../models/lin_reg.bin', 'wb') as f_out:\n",
    "    pickle.dump((dv, lr), f_out)"
   ]
  },
  {
   "cell_type": "code",
   "execution_count": 21,
   "id": "988fbdd8",
   "metadata": {},
   "outputs": [
    {
     "name": "stderr",
     "output_type": "stream",
     "text": [
      "/home/codespace/anaconda3/lib/python3.9/site-packages/seaborn/distributions.py:2619: FutureWarning: `distplot` is a deprecated function and will be removed in a future version. Please adapt your code to use either `displot` (a figure-level function with similar flexibility) or `histplot` (an axes-level function for histograms).\n",
      "  warnings.warn(msg, FutureWarning)\n",
      "/home/codespace/anaconda3/lib/python3.9/site-packages/seaborn/distributions.py:2619: FutureWarning: `distplot` is a deprecated function and will be removed in a future version. Please adapt your code to use either `displot` (a figure-level function with similar flexibility) or `histplot` (an axes-level function for histograms).\n",
      "  warnings.warn(msg, FutureWarning)\n"
     ]
    },
    {
     "data": {
      "image/png": "[encoded data removed]",
      "text/plain": [
       "<Figure size 432x288 with 1 Axes>"
      ]
     },
     "metadata": {
      "needs_background": "light"
     },
     "output_type": "display_data"
    }
   ],
   "source": [
    "with mlflow.start_run():\n",
    "\n",
    "    mlflow.log_param(\"train-data-path\", \"../data/green_tripdata_2021-01.parquet\")\n",
    "    mlflow.log_param(\"val-data-path\", \"../data/green_tripdata_2021-02.parquet\")\n",
    "\n",
    "    alpha = 0.01\n",
    "    mlflow.log_param(\"alpha\", alpha)\n",
    "    \n",
    "    ls = Lasso()\n",
    "    ls.fit(x_train, y_train)\n",
    "    y_pred = ls.predict(x_val)\n",
    "    sns.distplot(y_val, label='actual')\n",
    "    sns.distplot(y_pred, label='prediction')\n",
    "    plt.legend()\n",
    "    rmse = mean_squared_error(y_val, y_pred, squared=False)\n",
    "    mlflow.log_metric(\"rmse\", rmse)\n",
    "    \n",
    "    mlflow.log_artifact(local_path=\"../models/lin_reg.bin\", artifact_path=\"models_pickle\")"
   ]
  },
  {
   "cell_type": "code",
   "execution_count": 36,
   "id": "e5d3de32",
   "metadata": {},
   "outputs": [
    {
     "name": "stdout",
     "output_type": "stream",
     "text": [
      "[0]\tvalidation-rmse:11.49106\n",
      "[1]\tvalidation-rmse:10.85344\n",
      "[2]\tvalidation-rmse:10.28981\n",
      "[3]\tvalidation-rmse:9.79734\n",
      "[4]\tvalidation-rmse:9.36571\n",
      "[5]\tvalidation-rmse:8.98756\n",
      "[6]\tvalidation-rmse:8.65993\n",
      "[7]\tvalidation-rmse:8.37423\n",
      "[8]\tvalidation-rmse:8.12751\n",
      "[9]\tvalidation-rmse:7.91580\n",
      "[10]\tvalidation-rmse:7.73098\n",
      "[11]\tvalidation-rmse:7.57449\n",
      "[12]\tvalidation-rmse:7.43693\n",
      "[13]\tvalidation-rmse:7.31942\n",
      "[14]\tvalidation-rmse:7.21679\n",
      "[15]\tvalidation-rmse:7.12967\n",
      "[16]\tvalidation-rmse:7.05452\n",
      "[17]\tvalidation-rmse:6.98939\n",
      "[18]\tvalidation-rmse:6.93377\n",
      "[19]\tvalidation-rmse:6.88493\n",
      "[20]\tvalidation-rmse:6.84241\n",
      "[21]\tvalidation-rmse:6.80535\n",
      "[22]\tvalidation-rmse:6.77328\n",
      "[23]\tvalidation-rmse:6.74452\n",
      "[24]\tvalidation-rmse:6.71941\n",
      "[25]\tvalidation-rmse:6.69706\n",
      "[26]\tvalidation-rmse:6.67742\n",
      "[27]\tvalidation-rmse:6.66056\n",
      "[28]\tvalidation-rmse:6.64508\n",
      "[29]\tvalidation-rmse:6.63159\n",
      "[30]\tvalidation-rmse:6.61981\n",
      "[31]\tvalidation-rmse:6.60865\n",
      "[32]\tvalidation-rmse:6.59843\n",
      "[33]\tvalidation-rmse:6.58967\n",
      "[34]\tvalidation-rmse:6.58198\n",
      "[35]\tvalidation-rmse:6.57529\n",
      "[36]\tvalidation-rmse:6.56804\n",
      "[37]\tvalidation-rmse:6.56195\n",
      "[38]\tvalidation-rmse:6.55656\n",
      "[39]\tvalidation-rmse:6.55222\n",
      "[40]\tvalidation-rmse:6.54818\n",
      "[41]\tvalidation-rmse:6.54435\n",
      "[42]\tvalidation-rmse:6.54070\n",
      "[43]\tvalidation-rmse:6.53733\n",
      "[44]\tvalidation-rmse:6.53480\n",
      "[45]\tvalidation-rmse:6.53240\n",
      "[46]\tvalidation-rmse:6.53000\n",
      "[47]\tvalidation-rmse:6.52785\n",
      "[48]\tvalidation-rmse:6.52588\n",
      "[49]\tvalidation-rmse:6.52435\n",
      "[50]\tvalidation-rmse:6.52286\n",
      "[51]\tvalidation-rmse:6.52191\n",
      "[52]\tvalidation-rmse:6.52084\n",
      "[53]\tvalidation-rmse:6.51987\n",
      "[54]\tvalidation-rmse:6.51978\n",
      "[55]\tvalidation-rmse:6.51817\n",
      "[56]\tvalidation-rmse:6.51754\n",
      "[57]\tvalidation-rmse:6.51663\n",
      "[58]\tvalidation-rmse:6.51571\n",
      "[59]\tvalidation-rmse:6.51502\n",
      "[60]\tvalidation-rmse:6.51386\n",
      "[61]\tvalidation-rmse:6.51326\n",
      "[62]\tvalidation-rmse:6.51285\n",
      "[63]\tvalidation-rmse:6.51204\n",
      "[64]\tvalidation-rmse:6.51074\n",
      "[65]\tvalidation-rmse:6.51022\n",
      "[66]\tvalidation-rmse:6.50864\n",
      "[67]\tvalidation-rmse:6.50701\n",
      "[68]\tvalidation-rmse:6.50645\n",
      "[69]\tvalidation-rmse:6.50555\n",
      "[70]\tvalidation-rmse:6.50490\n",
      "[71]\tvalidation-rmse:6.50408\n",
      "[72]\tvalidation-rmse:6.50289\n",
      "[73]\tvalidation-rmse:6.50206\n",
      "[74]\tvalidation-rmse:6.50143\n",
      "[75]\tvalidation-rmse:6.50067\n",
      "[76]\tvalidation-rmse:6.49951\n",
      "[77]\tvalidation-rmse:6.49845\n",
      "[78]\tvalidation-rmse:6.49767\n",
      "[79]\tvalidation-rmse:6.49726\n",
      "[80]\tvalidation-rmse:6.49669\n",
      "[81]\tvalidation-rmse:6.49604\n",
      "[82]\tvalidation-rmse:6.49507\n",
      "[83]\tvalidation-rmse:6.49418\n",
      "[84]\tvalidation-rmse:6.49333\n",
      "[85]\tvalidation-rmse:6.49285\n",
      "[86]\tvalidation-rmse:6.49191\n",
      "[87]\tvalidation-rmse:6.49103\n",
      "[88]\tvalidation-rmse:6.49017\n",
      "[89]\tvalidation-rmse:6.48940\n",
      "[90]\tvalidation-rmse:6.48915\n",
      "[91]\tvalidation-rmse:6.48847\n",
      "[92]\tvalidation-rmse:6.48777\n",
      "[93]\tvalidation-rmse:6.48723\n",
      "[94]\tvalidation-rmse:6.48689\n",
      "[95]\tvalidation-rmse:6.48587\n",
      "[96]\tvalidation-rmse:6.48525\n",
      "[97]\tvalidation-rmse:6.48451\n",
      "[98]\tvalidation-rmse:6.48406\n",
      "[99]\tvalidation-rmse:6.48363\n",
      "[100]\tvalidation-rmse:6.48249\n",
      "[101]\tvalidation-rmse:6.48179\n",
      "[102]\tvalidation-rmse:6.48092\n",
      "[103]\tvalidation-rmse:6.48048\n",
      "[104]\tvalidation-rmse:6.47980\n",
      "[105]\tvalidation-rmse:6.47945\n",
      "[106]\tvalidation-rmse:6.47905\n",
      "[107]\tvalidation-rmse:6.47856\n",
      "[108]\tvalidation-rmse:6.47816\n",
      "[109]\tvalidation-rmse:6.47672\n",
      "[110]\tvalidation-rmse:6.47614\n",
      "[111]\tvalidation-rmse:6.47554\n",
      "[112]\tvalidation-rmse:6.47504\n",
      "[113]\tvalidation-rmse:6.47451\n",
      "[114]\tvalidation-rmse:6.47388\n",
      "[115]\tvalidation-rmse:6.47305\n",
      "[116]\tvalidation-rmse:6.47250\n",
      "[117]\tvalidation-rmse:6.47172\n",
      "[118]\tvalidation-rmse:6.47143\n",
      "[119]\tvalidation-rmse:6.47132\n",
      "[120]\tvalidation-rmse:6.47020\n",
      "[121]\tvalidation-rmse:6.46981\n",
      "[122]\tvalidation-rmse:6.46934\n",
      "[123]\tvalidation-rmse:6.46879\n",
      "[124]\tvalidation-rmse:6.46829\n",
      "[125]\tvalidation-rmse:6.46753\n",
      "[126]\tvalidation-rmse:6.46703\n",
      "[127]\tvalidation-rmse:6.46632\n",
      "[128]\tvalidation-rmse:6.46572\n",
      "[129]\tvalidation-rmse:6.46485\n",
      "[130]\tvalidation-rmse:6.46416\n",
      "[131]\tvalidation-rmse:6.46357\n",
      "[132]\tvalidation-rmse:6.46316\n",
      "[133]\tvalidation-rmse:6.46233\n",
      "[134]\tvalidation-rmse:6.46190\n",
      "[135]\tvalidation-rmse:6.46118\n",
      "[136]\tvalidation-rmse:6.46067\n",
      "[137]\tvalidation-rmse:6.46014\n",
      "[138]\tvalidation-rmse:6.45978\n",
      "[139]\tvalidation-rmse:6.45937\n",
      "[140]\tvalidation-rmse:6.45902\n",
      "[141]\tvalidation-rmse:6.45869\n",
      "[142]\tvalidation-rmse:6.45817\n",
      "[143]\tvalidation-rmse:6.45725\n",
      "[144]\tvalidation-rmse:6.45683\n",
      "[145]\tvalidation-rmse:6.45604\n",
      "[146]\tvalidation-rmse:6.45592\n",
      "[147]\tvalidation-rmse:6.45537\n",
      "[148]\tvalidation-rmse:6.45491\n",
      "[149]\tvalidation-rmse:6.45455\n",
      "[150]\tvalidation-rmse:6.45404\n",
      "[151]\tvalidation-rmse:6.45337\n",
      "[152]\tvalidation-rmse:6.45290\n",
      "[153]\tvalidation-rmse:6.45248\n",
      "[154]\tvalidation-rmse:6.45188\n",
      "[155]\tvalidation-rmse:6.45146\n",
      "[156]\tvalidation-rmse:6.45140\n",
      "[157]\tvalidation-rmse:6.45123\n",
      "[158]\tvalidation-rmse:6.45118\n",
      "[159]\tvalidation-rmse:6.45077\n",
      "[160]\tvalidation-rmse:6.45026\n",
      "[161]\tvalidation-rmse:6.44952\n",
      "[162]\tvalidation-rmse:6.44920\n",
      "[163]\tvalidation-rmse:6.44879\n",
      "[164]\tvalidation-rmse:6.44826\n",
      "[165]\tvalidation-rmse:6.44774\n",
      "[166]\tvalidation-rmse:6.44700\n",
      "[167]\tvalidation-rmse:6.44651\n",
      "[168]\tvalidation-rmse:6.44617\n",
      "[169]\tvalidation-rmse:6.44551\n",
      "[170]\tvalidation-rmse:6.44501\n",
      "[171]\tvalidation-rmse:6.44439\n",
      "[172]\tvalidation-rmse:6.44406\n",
      "[173]\tvalidation-rmse:6.44365\n",
      "[174]\tvalidation-rmse:6.44268\n",
      "[175]\tvalidation-rmse:6.44228\n",
      "[176]\tvalidation-rmse:6.44181\n",
      "[177]\tvalidation-rmse:6.44146\n",
      "[178]\tvalidation-rmse:6.44090\n",
      "[179]\tvalidation-rmse:6.44052\n",
      "[180]\tvalidation-rmse:6.44008\n",
      "[181]\tvalidation-rmse:6.43976\n",
      "[182]\tvalidation-rmse:6.43931\n",
      "[183]\tvalidation-rmse:6.43910\n",
      "[184]\tvalidation-rmse:6.43873\n",
      "[185]\tvalidation-rmse:6.43850\n",
      "[186]\tvalidation-rmse:6.43819\n",
      "[187]\tvalidation-rmse:6.43754\n",
      "[188]\tvalidation-rmse:6.43709\n",
      "[189]\tvalidation-rmse:6.43645\n",
      "[190]\tvalidation-rmse:6.43614\n",
      "[191]\tvalidation-rmse:6.43590\n",
      "[192]\tvalidation-rmse:6.43551\n",
      "[193]\tvalidation-rmse:6.43506\n",
      "[194]\tvalidation-rmse:6.43467\n",
      "[195]\tvalidation-rmse:6.43441\n",
      "[196]\tvalidation-rmse:6.43420\n",
      "[197]\tvalidation-rmse:6.43356\n",
      "[198]\tvalidation-rmse:6.43310\n",
      "[199]\tvalidation-rmse:6.43288\n",
      "[200]\tvalidation-rmse:6.43245\n",
      "[201]\tvalidation-rmse:6.43200\n",
      "[202]\tvalidation-rmse:6.43174\n",
      "[203]\tvalidation-rmse:6.43170\n",
      "[204]\tvalidation-rmse:6.43174\n",
      "[205]\tvalidation-rmse:6.43160\n",
      "[206]\tvalidation-rmse:6.43133\n",
      "[207]\tvalidation-rmse:6.43117\n",
      "[208]\tvalidation-rmse:6.43103\n",
      "[209]\tvalidation-rmse:6.43057\n",
      "[210]\tvalidation-rmse:6.43018\n",
      "[211]\tvalidation-rmse:6.42995\n",
      "[212]\tvalidation-rmse:6.42979\n",
      "[213]\tvalidation-rmse:6.42949\n",
      "[214]\tvalidation-rmse:6.42916\n",
      "[215]\tvalidation-rmse:6.42857\n",
      "[216]\tvalidation-rmse:6.42824\n",
      "[217]\tvalidation-rmse:6.42781\n",
      "[218]\tvalidation-rmse:6.42752\n",
      "[219]\tvalidation-rmse:6.42711\n",
      "[220]\tvalidation-rmse:6.42683\n",
      "[221]\tvalidation-rmse:6.42635\n",
      "[222]\tvalidation-rmse:6.42600\n",
      "[223]\tvalidation-rmse:6.42563\n",
      "[224]\tvalidation-rmse:6.42545\n",
      "[225]\tvalidation-rmse:6.42505\n",
      "[226]\tvalidation-rmse:6.42420\n",
      "[227]\tvalidation-rmse:6.42382\n",
      "[228]\tvalidation-rmse:6.42350\n",
      "[229]\tvalidation-rmse:6.42298\n",
      "[230]\tvalidation-rmse:6.42274\n",
      "[231]\tvalidation-rmse:6.42243\n",
      "[232]\tvalidation-rmse:6.42222\n",
      "[233]\tvalidation-rmse:6.42202\n",
      "[234]\tvalidation-rmse:6.42187\n",
      "[235]\tvalidation-rmse:6.42125\n",
      "[236]\tvalidation-rmse:6.42100\n",
      "[237]\tvalidation-rmse:6.42071\n",
      "[238]\tvalidation-rmse:6.42051\n",
      "[239]\tvalidation-rmse:6.42018\n",
      "[240]\tvalidation-rmse:6.41991\n",
      "[241]\tvalidation-rmse:6.41967\n",
      "[242]\tvalidation-rmse:6.41953\n",
      "[243]\tvalidation-rmse:6.41922\n",
      "[244]\tvalidation-rmse:6.41892\n",
      "[245]\tvalidation-rmse:6.41819\n",
      "[246]\tvalidation-rmse:6.41790\n",
      "[247]\tvalidation-rmse:6.41738\n",
      "[248]\tvalidation-rmse:6.41715\n",
      "[249]\tvalidation-rmse:6.41695\n",
      "[250]\tvalidation-rmse:6.41654\n",
      "[251]\tvalidation-rmse:6.41638\n",
      "[252]\tvalidation-rmse:6.41622\n",
      "[253]\tvalidation-rmse:6.41591\n",
      "[254]\tvalidation-rmse:6.41555\n",
      "[255]\tvalidation-rmse:6.41522\n",
      "[256]\tvalidation-rmse:6.41507\n",
      "[257]\tvalidation-rmse:6.41439\n",
      "[258]\tvalidation-rmse:6.41396\n",
      "[259]\tvalidation-rmse:6.41365\n",
      "[260]\tvalidation-rmse:6.41344\n",
      "[261]\tvalidation-rmse:6.41324\n",
      "[262]\tvalidation-rmse:6.41295\n",
      "[263]\tvalidation-rmse:6.41267\n",
      "[264]\tvalidation-rmse:6.41253\n",
      "[265]\tvalidation-rmse:6.41256\n",
      "[266]\tvalidation-rmse:6.41264\n",
      "[267]\tvalidation-rmse:6.41264\n",
      "[268]\tvalidation-rmse:6.41236\n",
      "[269]\tvalidation-rmse:6.41212\n",
      "[270]\tvalidation-rmse:6.41188\n",
      "[271]\tvalidation-rmse:6.41164\n",
      "[272]\tvalidation-rmse:6.41136\n",
      "[273]\tvalidation-rmse:6.41109\n",
      "[274]\tvalidation-rmse:6.41074\n",
      "[275]\tvalidation-rmse:6.41048\n",
      "[276]\tvalidation-rmse:6.41018\n"
     ]
    },
    {
     "name": "stdout",
     "output_type": "stream",
     "text": [
      "[277]\tvalidation-rmse:6.40998\n",
      "[278]\tvalidation-rmse:6.40970\n",
      "[279]\tvalidation-rmse:6.40953\n",
      "[280]\tvalidation-rmse:6.40899\n",
      "[281]\tvalidation-rmse:6.40878\n",
      "[282]\tvalidation-rmse:6.40843\n",
      "[283]\tvalidation-rmse:6.40832\n",
      "[284]\tvalidation-rmse:6.40815\n",
      "[285]\tvalidation-rmse:6.40791\n",
      "[286]\tvalidation-rmse:6.40763\n",
      "[287]\tvalidation-rmse:6.40728\n",
      "[288]\tvalidation-rmse:6.40693\n",
      "[289]\tvalidation-rmse:6.40665\n",
      "[290]\tvalidation-rmse:6.40634\n",
      "[291]\tvalidation-rmse:6.40617\n",
      "[292]\tvalidation-rmse:6.40584\n",
      "[293]\tvalidation-rmse:6.40510\n",
      "[294]\tvalidation-rmse:6.40476\n",
      "[295]\tvalidation-rmse:6.40439\n",
      "[296]\tvalidation-rmse:6.40422\n",
      "[297]\tvalidation-rmse:6.40390\n",
      "[298]\tvalidation-rmse:6.40354\n",
      "[299]\tvalidation-rmse:6.40325\n",
      "[300]\tvalidation-rmse:6.40307\n",
      "[301]\tvalidation-rmse:6.40284\n",
      "[302]\tvalidation-rmse:6.40260\n",
      "[303]\tvalidation-rmse:6.40255\n",
      "[304]\tvalidation-rmse:6.40237\n",
      "[305]\tvalidation-rmse:6.40204\n",
      "[306]\tvalidation-rmse:6.40170\n",
      "[307]\tvalidation-rmse:6.40159\n",
      "[308]\tvalidation-rmse:6.40137\n",
      "[309]\tvalidation-rmse:6.40114\n",
      "[310]\tvalidation-rmse:6.40110\n",
      "[311]\tvalidation-rmse:6.40082\n",
      "[312]\tvalidation-rmse:6.40034\n",
      "[313]\tvalidation-rmse:6.40022\n",
      "[314]\tvalidation-rmse:6.40019\n",
      "[315]\tvalidation-rmse:6.39995\n",
      "[316]\tvalidation-rmse:6.39958\n",
      "[317]\tvalidation-rmse:6.39936\n",
      "[318]\tvalidation-rmse:6.39889\n",
      "[319]\tvalidation-rmse:6.39851\n",
      "[320]\tvalidation-rmse:6.39829\n",
      "[321]\tvalidation-rmse:6.39808\n",
      "[322]\tvalidation-rmse:6.39780\n",
      "[323]\tvalidation-rmse:6.39779\n",
      "[324]\tvalidation-rmse:6.39768\n",
      "[325]\tvalidation-rmse:6.39731\n",
      "[326]\tvalidation-rmse:6.39712\n",
      "[327]\tvalidation-rmse:6.39688\n",
      "[328]\tvalidation-rmse:6.39660\n",
      "[329]\tvalidation-rmse:6.39632\n",
      "[330]\tvalidation-rmse:6.39616\n",
      "[331]\tvalidation-rmse:6.39590\n",
      "[332]\tvalidation-rmse:6.39568\n",
      "[333]\tvalidation-rmse:6.39495\n",
      "[334]\tvalidation-rmse:6.39460\n",
      "[335]\tvalidation-rmse:6.39443\n",
      "[336]\tvalidation-rmse:6.39422\n",
      "[337]\tvalidation-rmse:6.39400\n",
      "[338]\tvalidation-rmse:6.39379\n",
      "[339]\tvalidation-rmse:6.39364\n",
      "[340]\tvalidation-rmse:6.39351\n",
      "[341]\tvalidation-rmse:6.39350\n",
      "[342]\tvalidation-rmse:6.39351\n",
      "[343]\tvalidation-rmse:6.39346\n",
      "[344]\tvalidation-rmse:6.39336\n",
      "[345]\tvalidation-rmse:6.39328\n",
      "[346]\tvalidation-rmse:6.39306\n",
      "[347]\tvalidation-rmse:6.39293\n",
      "[348]\tvalidation-rmse:6.39279\n",
      "[349]\tvalidation-rmse:6.39259\n",
      "[350]\tvalidation-rmse:6.39245\n",
      "[351]\tvalidation-rmse:6.39218\n",
      "[352]\tvalidation-rmse:6.39206\n",
      "[353]\tvalidation-rmse:6.39186\n",
      "[354]\tvalidation-rmse:6.39159\n",
      "[355]\tvalidation-rmse:6.39130\n",
      "[356]\tvalidation-rmse:6.39099\n",
      "[357]\tvalidation-rmse:6.39079\n",
      "[358]\tvalidation-rmse:6.39048\n",
      "[359]\tvalidation-rmse:6.39032\n",
      "[360]\tvalidation-rmse:6.38987\n",
      "[361]\tvalidation-rmse:6.38975\n",
      "[362]\tvalidation-rmse:6.38969\n",
      "[363]\tvalidation-rmse:6.38940\n",
      "[364]\tvalidation-rmse:6.38933\n",
      "[365]\tvalidation-rmse:6.38917\n",
      "[366]\tvalidation-rmse:6.38899\n",
      "[367]\tvalidation-rmse:6.38852\n",
      "[368]\tvalidation-rmse:6.38830\n",
      "[369]\tvalidation-rmse:6.38806\n",
      "[370]\tvalidation-rmse:6.38790\n",
      "[371]\tvalidation-rmse:6.38760\n",
      "[372]\tvalidation-rmse:6.38732\n",
      "[373]\tvalidation-rmse:6.38724\n",
      "[374]\tvalidation-rmse:6.38682\n",
      "[375]\tvalidation-rmse:6.38661\n",
      "[376]\tvalidation-rmse:6.38613\n",
      "[377]\tvalidation-rmse:6.38597\n",
      "[378]\tvalidation-rmse:6.38576\n",
      "[379]\tvalidation-rmse:6.38545\n",
      "[380]\tvalidation-rmse:6.38514\n",
      "[381]\tvalidation-rmse:6.38494\n",
      "[382]\tvalidation-rmse:6.38478\n",
      "[383]\tvalidation-rmse:6.38452\n",
      "[384]\tvalidation-rmse:6.38434\n",
      "[385]\tvalidation-rmse:6.38416\n",
      "[386]\tvalidation-rmse:6.38408\n",
      "[387]\tvalidation-rmse:6.38389\n",
      "[388]\tvalidation-rmse:6.38366\n",
      "[389]\tvalidation-rmse:6.38338\n",
      "[390]\tvalidation-rmse:6.38311\n",
      "[391]\tvalidation-rmse:6.38311\n",
      "[392]\tvalidation-rmse:6.38299\n",
      "[393]\tvalidation-rmse:6.38289\n",
      "[394]\tvalidation-rmse:6.38266\n",
      "[395]\tvalidation-rmse:6.38248\n",
      "[396]\tvalidation-rmse:6.38241\n",
      "[397]\tvalidation-rmse:6.38222\n",
      "[398]\tvalidation-rmse:6.38210\n",
      "[399]\tvalidation-rmse:6.38194\n",
      "[400]\tvalidation-rmse:6.38170\n",
      "[401]\tvalidation-rmse:6.38153\n",
      "[402]\tvalidation-rmse:6.38103\n",
      "[403]\tvalidation-rmse:6.38081\n",
      "[404]\tvalidation-rmse:6.38033\n",
      "[405]\tvalidation-rmse:6.38020\n",
      "[406]\tvalidation-rmse:6.38013\n",
      "[407]\tvalidation-rmse:6.37984\n",
      "[408]\tvalidation-rmse:6.37948\n",
      "[409]\tvalidation-rmse:6.37941\n",
      "[410]\tvalidation-rmse:6.37932\n",
      "[411]\tvalidation-rmse:6.37915\n",
      "[412]\tvalidation-rmse:6.37894\n",
      "[413]\tvalidation-rmse:6.37897\n",
      "[414]\tvalidation-rmse:6.37880\n",
      "[415]\tvalidation-rmse:6.37852\n",
      "[416]\tvalidation-rmse:6.37844\n",
      "[417]\tvalidation-rmse:6.37821\n",
      "[418]\tvalidation-rmse:6.37793\n",
      "[419]\tvalidation-rmse:6.37764\n",
      "[420]\tvalidation-rmse:6.37723\n",
      "[421]\tvalidation-rmse:6.37703\n",
      "[422]\tvalidation-rmse:6.37667\n",
      "[423]\tvalidation-rmse:6.37653\n",
      "[424]\tvalidation-rmse:6.37636\n",
      "[425]\tvalidation-rmse:6.37627\n",
      "[426]\tvalidation-rmse:6.37606\n",
      "[427]\tvalidation-rmse:6.37588\n",
      "[428]\tvalidation-rmse:6.37588\n",
      "[429]\tvalidation-rmse:6.37583\n",
      "[430]\tvalidation-rmse:6.37575\n",
      "[431]\tvalidation-rmse:6.37582\n",
      "[432]\tvalidation-rmse:6.37572\n",
      "[433]\tvalidation-rmse:6.37576\n",
      "[434]\tvalidation-rmse:6.37569\n",
      "[435]\tvalidation-rmse:6.37544\n",
      "[436]\tvalidation-rmse:6.37528\n",
      "[437]\tvalidation-rmse:6.37523\n",
      "[438]\tvalidation-rmse:6.37502\n",
      "[439]\tvalidation-rmse:6.37491\n",
      "[440]\tvalidation-rmse:6.37485\n",
      "[441]\tvalidation-rmse:6.37472\n",
      "[442]\tvalidation-rmse:6.37460\n",
      "[443]\tvalidation-rmse:6.37432\n",
      "[444]\tvalidation-rmse:6.37411\n",
      "[445]\tvalidation-rmse:6.37394\n",
      "[446]\tvalidation-rmse:6.37371\n",
      "[447]\tvalidation-rmse:6.37358\n",
      "[448]\tvalidation-rmse:6.37336\n",
      "[449]\tvalidation-rmse:6.37320\n",
      "[450]\tvalidation-rmse:6.37314\n",
      "[451]\tvalidation-rmse:6.37311\n",
      "[452]\tvalidation-rmse:6.37278\n",
      "[453]\tvalidation-rmse:6.37260\n",
      "[454]\tvalidation-rmse:6.37256\n",
      "[455]\tvalidation-rmse:6.37247\n",
      "[456]\tvalidation-rmse:6.37240\n",
      "[457]\tvalidation-rmse:6.37231\n",
      "[458]\tvalidation-rmse:6.37197\n",
      "[459]\tvalidation-rmse:6.37177\n",
      "[460]\tvalidation-rmse:6.37141\n",
      "[461]\tvalidation-rmse:6.37132\n",
      "[462]\tvalidation-rmse:6.37111\n",
      "[463]\tvalidation-rmse:6.37090\n",
      "[464]\tvalidation-rmse:6.37066\n",
      "[465]\tvalidation-rmse:6.37056\n",
      "[466]\tvalidation-rmse:6.37051\n",
      "[467]\tvalidation-rmse:6.37033\n",
      "[468]\tvalidation-rmse:6.36996\n",
      "[469]\tvalidation-rmse:6.36977\n",
      "[470]\tvalidation-rmse:6.36915\n",
      "[471]\tvalidation-rmse:6.36897\n",
      "[472]\tvalidation-rmse:6.36887\n",
      "[473]\tvalidation-rmse:6.36876\n",
      "[474]\tvalidation-rmse:6.36853\n",
      "[475]\tvalidation-rmse:6.36839\n",
      "[476]\tvalidation-rmse:6.36829\n",
      "[477]\tvalidation-rmse:6.36820\n",
      "[478]\tvalidation-rmse:6.36802\n",
      "[479]\tvalidation-rmse:6.36774\n",
      "[480]\tvalidation-rmse:6.36763\n",
      "[481]\tvalidation-rmse:6.36741\n",
      "[482]\tvalidation-rmse:6.36718\n",
      "[483]\tvalidation-rmse:6.36714\n",
      "[484]\tvalidation-rmse:6.36710\n",
      "[485]\tvalidation-rmse:6.36704\n",
      "[486]\tvalidation-rmse:6.36690\n",
      "[487]\tvalidation-rmse:6.36682\n",
      "[488]\tvalidation-rmse:6.36666\n",
      "[489]\tvalidation-rmse:6.36664\n",
      "[490]\tvalidation-rmse:6.36663\n",
      "[491]\tvalidation-rmse:6.36653\n",
      "[492]\tvalidation-rmse:6.36631\n",
      "[493]\tvalidation-rmse:6.36615\n",
      "[494]\tvalidation-rmse:6.36605\n",
      "[495]\tvalidation-rmse:6.36585\n",
      "[496]\tvalidation-rmse:6.36572\n",
      "[497]\tvalidation-rmse:6.36571\n",
      "[498]\tvalidation-rmse:6.36524\n",
      "[499]\tvalidation-rmse:6.36515\n"
     ]
    },
    {
     "name": "stderr",
     "output_type": "stream",
     "text": [
      "/home/codespace/anaconda3/lib/python3.9/site-packages/xgboost/core.py:160: UserWarning: [05:59:04] WARNING: /workspace/src/c_api/c_api.cc:1240: Saving into deprecated binary model format, please consider using `json` or `ubj`. Model format will default to JSON in XGBoost 2.2 if not specified.\n",
      "  warnings.warn(smsg, UserWarning)\n"
     ]
    }
   ],
   "source": [
    "with mlflow.start_run():\n",
    "    \n",
    "    best_params = {\n",
    "        'learning_rate': 0.09,\n",
    "        'max_depth': 30,\n",
    "        'min_child_weight': 1.06,\n",
    "        'objective': 'reg:squarederror',\n",
    "        'reg_alpha': 0.018,\n",
    "        'reg_lambda': 0.012,\n",
    "        'seed': 42\n",
    "    }\n",
    "    \n",
    "    mlflow.log_params(best_params)\n",
    "    \n",
    "    with open('../models/preprocessor.b', 'wb') as f_out:\n",
    "        pickle.dump(dv, f_out)\n",
    "    mlflow.log_artifact(\"../models/preprocessor.b\", artifact_path=\"preprocessor\")\n",
    "    \n",
    "    train_data = xgboost.DMatrix(x_train, y_train)\n",
    "    valid_data = xgboost.DMatrix(x_val, y_val)\n",
    "    \n",
    "    booster = xgboost.train(\n",
    "        params=best_params,\n",
    "        dtrain=train_data,\n",
    "        num_boost_round=500,\n",
    "        evals=[(valid_data, \"validation\")],\n",
    "        early_stopping_rounds=50)\n",
    "    \n",
    "    y_pred = booster.predict(valid_data)\n",
    "    rmse = mean_squared_error(y_val, y_pred, squared=False)\n",
    "    \n",
    "    mlflow.log_metric(\"rmse\", rmse)\n",
    "    \n",
    "    mlflow.xgboost.log_model(booster, artifact_path=\"models_mlflow\")"
   ]
  },
  {
   "cell_type": "markdown",
   "id": "48ce3f7f",
   "metadata": {},
   "source": [
    "## Loading Models"
   ]
  },
  {
   "cell_type": "code",
   "execution_count": 37,
   "id": "1fc2f432",
   "metadata": {},
   "outputs": [],
   "source": [
    "from mlflow.tracking import MlflowClient\n",
    "\n",
    "MLFLOW_TRACKING_URI = \"sqlite:///mlflow.db\"\n",
    "\n",
    "client = MlflowClient(tracking_uri=MLFLOW_TRACKING_URI)"
   ]
  },
  {
   "cell_type": "code",
   "execution_count": 39,
   "id": "19925489",
   "metadata": {},
   "outputs": [
    {
     "data": {
      "text/plain": [
       "[<Experiment: artifact_location='/workspaces/mlops-zoomcamp/02-experiment-tracking/mlruns/1', creation_time=1716230354427, experiment_id='1', last_update_time=1716230354427, lifecycle_stage='active', name='nyc-taxi-experiment', tags={}>,\n",
       " <Experiment: artifact_location='/workspaces/mlops-zoomcamp/02-experiment-tracking/mlruns/0', creation_time=1716230354398, experiment_id='0', last_update_time=1716230354398, lifecycle_stage='active', name='Default', tags={}>]"
      ]
     },
     "execution_count": 39,
     "metadata": {},
     "output_type": "execute_result"
    }
   ],
   "source": [
    "client.search_experiments()"
   ]
  },
  {
   "cell_type": "code",
   "execution_count": 41,
   "id": "2c2af828",
   "metadata": {},
   "outputs": [
    {
     "data": {
      "text/plain": [
       "[<Run: data=<RunData: metrics={'rmse': 6.365150129739202}, params={'learning_rate': '0.09',\n",
       "  'max_depth': '30',\n",
       "  'min_child_weight': '1.06',\n",
       "  'objective': 'reg:squarederror',\n",
       "  'reg_alpha': '0.018',\n",
       "  'reg_lambda': '0.012',\n",
       "  'seed': '42'}, tags={'mlflow.log-model.history': '[{\"run_id\": \"8fcdf86f121b48b4b5537c46185a6156\", '\n",
       "                              '\"artifact_path\": \"models_mlflow\", '\n",
       "                              '\"utc_time_created\": \"2024-05-26 '\n",
       "                              '05:59:04.544454\", \"flavors\": {\"python_function\": '\n",
       "                              '{\"loader_module\": \"mlflow.xgboost\", '\n",
       "                              '\"python_version\": \"3.9.12\", \"data\": \"model.xgb\", '\n",
       "                              '\"env\": {\"conda\": \"conda.yaml\", \"virtualenv\": '\n",
       "                              '\"python_env.yaml\"}}, \"xgboost\": {\"xgb_version\": '\n",
       "                              '\"2.0.3\", \"data\": \"model.xgb\", \"model_class\": '\n",
       "                              '\"xgboost.core.Booster\", \"model_format\": \"xgb\", '\n",
       "                              '\"code\": null}}, \"model_uuid\": '\n",
       "                              '\"bf835d923fcf44e3a12e4e2a8de94696\", '\n",
       "                              '\"mlflow_version\": \"2.13.0\", \"model_size_bytes\": '\n",
       "                              '5870212}]',\n",
       "  'mlflow.runName': 'lyrical-wren-738',\n",
       "  'mlflow.source.name': '/home/codespace/anaconda3/lib/python3.9/site-packages/ipykernel_launcher.py',\n",
       "  'mlflow.source.type': 'LOCAL',\n",
       "  'mlflow.user': 'codespace'}>, info=<RunInfo: artifact_uri='/workspaces/mlops-zoomcamp/02-experiment-tracking/mlruns/1/8fcdf86f121b48b4b5537c46185a6156/artifacts', end_time=1716703146079, experiment_id='1', lifecycle_stage='active', run_id='8fcdf86f121b48b4b5537c46185a6156', run_name='lyrical-wren-738', run_uuid='8fcdf86f121b48b4b5537c46185a6156', start_time=1716703040386, status='FINISHED', user_id='codespace'>, inputs=<RunInputs: dataset_inputs=[]>>,\n",
       " <Run: data=<RunData: metrics={'rmse': 6.365150129739202}, params={'learning_rate': '0.09',\n",
       "  'max_depth': '30',\n",
       "  'min_child_weight': '1.06',\n",
       "  'objective': 'reg:squarederror',\n",
       "  'reg_alpha': '0.018',\n",
       "  'reg_lambda': '0.012',\n",
       "  'seed': '42'}, tags={'mlflow.log-model.history': '[{\"run_id\": \"fe5cbbf287ae42d48be9368f6e569abb\", '\n",
       "                              '\"artifact_path\": \"models_mlflow\", '\n",
       "                              '\"utc_time_created\": \"2024-05-26 '\n",
       "                              '05:52:02.704104\", \"flavors\": {\"python_function\": '\n",
       "                              '{\"loader_module\": \"mlflow.xgboost\", '\n",
       "                              '\"python_version\": \"3.9.12\", \"data\": \"model.xgb\", '\n",
       "                              '\"env\": {\"conda\": \"conda.yaml\", \"virtualenv\": '\n",
       "                              '\"python_env.yaml\"}}, \"xgboost\": {\"xgb_version\": '\n",
       "                              '\"2.0.3\", \"data\": \"model.xgb\", \"model_class\": '\n",
       "                              '\"xgboost.core.Booster\", \"model_format\": \"xgb\", '\n",
       "                              '\"code\": null}}, \"model_uuid\": '\n",
       "                              '\"8358e905d76e4f0cb562a3c8b7fab37d\", '\n",
       "                              '\"mlflow_version\": \"2.13.0\", \"model_size_bytes\": '\n",
       "                              '5870212}]',\n",
       "  'mlflow.runName': 'persistent-ant-581',\n",
       "  'mlflow.source.name': '/home/codespace/anaconda3/lib/python3.9/site-packages/ipykernel_launcher.py',\n",
       "  'mlflow.source.type': 'LOCAL',\n",
       "  'mlflow.user': 'codespace'}>, info=<RunInfo: artifact_uri='/workspaces/mlops-zoomcamp/02-experiment-tracking/mlruns/1/fe5cbbf287ae42d48be9368f6e569abb/artifacts', end_time=1716702727335, experiment_id='1', lifecycle_stage='active', run_id='fe5cbbf287ae42d48be9368f6e569abb', run_name='persistent-ant-581', run_uuid='fe5cbbf287ae42d48be9368f6e569abb', start_time=1716702618877, status='FINISHED', user_id='codespace'>, inputs=<RunInputs: dataset_inputs=[]>>]"
      ]
     },
     "execution_count": 41,
     "metadata": {},
     "output_type": "execute_result"
    }
   ],
   "source": [
    "from mlflow.entities import ViewType\n",
    "\n",
    "runs = client.search_runs(\n",
    "    experiment_ids='1',\n",
    "    filter_string=\"metrics.rmse < 6.8\",\n",
    "    run_view_type=ViewType.ACTIVE_ONLY,\n",
    "    max_results=5,\n",
    "    order_by=[\"metrics.rmse ASC\"])\n",
    "\n",
    "runs"
   ]
  },
  {
   "cell_type": "code",
   "execution_count": null,
   "id": "4b63b82b",
   "metadata": {},
   "outputs": [],
   "source": []
  },
  {
   "cell_type": "code",
   "execution_count": 19,
   "id": "cbf40484",
   "metadata": {},
   "outputs": [
    {
     "data": {
      "text/plain": [
       "0.9812202822125979"
      ]
     },
     "execution_count": 19,
     "metadata": {},
     "output_type": "execute_result"
    }
   ],
   "source": [
    "filtered_df = read_data(\n",
    "    '../data/yellow_tripdata_2023-01.parquet',\n",
    "    'tpep_pickup_datetime',\n",
    "    'tpep_dropoff_datetime')\n",
    "len(filtered_df) / len(df)"
   ]
  },
  {
   "cell_type": "code",
   "execution_count": 27,
   "id": "4695fc6c",
   "metadata": {},
   "outputs": [
    {
     "data": {
      "text/plain": [
       "<3009173x515 sparse matrix of type '<class 'numpy.float64'>'\n",
       "\twith 6018346 stored elements in Compressed Sparse Row format>"
      ]
     },
     "execution_count": 27,
     "metadata": {},
     "output_type": "execute_result"
    }
   ],
   "source": [
    "categorical = ['PULocationID', 'DOLocationID']\n",
    "features = filtered_df[categorical].to_dict(orient='records')\n",
    "dv = DictVectorizer()\n",
    "features = dv.fit_transform(features)\n",
    "features"
   ]
  },
  {
   "cell_type": "code",
   "execution_count": 28,
   "id": "6718cc19",
   "metadata": {},
   "outputs": [
    {
     "data": {
      "text/plain": [
       "7.6492610279057605"
      ]
     },
     "execution_count": 28,
     "metadata": {},
     "output_type": "execute_result"
    }
   ],
   "source": [
    "labels = filtered_df.duration\n",
    "lr = LinearRegression()\n",
    "lr.fit(features, labels)\n",
    "y_pred = lr.predict(features)\n",
    "mean_squared_error(labels, y_pred, squared=False)"
   ]
  },
  {
   "cell_type": "code",
   "execution_count": 30,
   "id": "a4020fe4",
   "metadata": {},
   "outputs": [
    {
     "data": {
      "text/plain": [
       "7.81183265470218"
      ]
     },
     "execution_count": 30,
     "metadata": {},
     "output_type": "execute_result"
    }
   ],
   "source": [
    "df_val = read_data(\n",
    "    '../data/yellow_tripdata_2023-02.parquet',\n",
    "    'tpep_pickup_datetime',\n",
    "    'tpep_dropoff_datetime')\n",
    "features_val = df_val[categorical].to_dict(orient='records')\n",
    "features_val = dv.transform(features_val)\n",
    "labels_val = df_val.duration\n",
    "lr.predict(features_val)\n",
    "y_val = lr.predict(features_val)\n",
    "mean_squared_error(labels_val, y_val, squared=False)"
   ]
  },
  {
   "cell_type": "code",
   "execution_count": 25,
   "id": "e989f5b5",
   "metadata": {},
   "outputs": [
    {
     "data": {
      "text/plain": [
       "<3009173x515 sparse matrix of type '<class 'numpy.float64'>'\n",
       "\twith 6018346 stored elements in Compressed Sparse Row format>"
      ]
     },
     "execution_count": 25,
     "metadata": {},
     "output_type": "execute_result"
    }
   ],
   "source": [
    "features"
   ]
  },
  {
   "cell_type": "code",
   "execution_count": null,
   "id": "f1ea8398",
   "metadata": {},
   "outputs": [],
   "source": []
  }
 ],
 "metadata": {
  "kernelspec": {
   "display_name": "Python 3 (ipykernel)",
   "language": "python",
   "name": "python3"
  },
  "language_info": {
   "codemirror_mode": {
    "name": "ipython",
    "version": 3
   },
   "file_extension": ".py",
   "mimetype": "text/x-python",
   "name": "python",
   "nbconvert_exporter": "python",
   "pygments_lexer": "ipython3",
   "version": "3.9.12"
  }
 },
 "nbformat": 4,
 "nbformat_minor": 5
}
