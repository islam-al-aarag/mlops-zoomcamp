{
 "cells": [
  {
   "cell_type": "code",
   "execution_count": null,
   "id": "4185cf91",
   "metadata": {},
   "outputs": [],
   "source": [
    "import pandas as pd\n",
    "import matplotlib.pyplot as plt\n",
    "import seaborn as sns"
   ]
  },
  {
   "cell_type": "code",
   "execution_count": null,
   "id": "bf67d625",
   "metadata": {},
   "outputs": [],
   "source": [
    "from sklearn.feature_extraction import DictVectorizer\n",
    "from sklearn.linear_model import LinearRegression\n",
    "from sklearn.metrics import mean_squared_error"
   ]
  },
  {
   "cell_type": "code",
   "execution_count": null,
   "id": "637ed76c",
   "metadata": {},
   "outputs": [],
   "source": [
    "import pickle"
   ]
  },
  {
   "cell_type": "code",
   "execution_count": 17,
   "id": "579a1564",
   "metadata": {},
   "outputs": [],
   "source": [
    "def read_data(filename, pickup_time_column, dropoff_time_column, filter_data=True):\n",
    "    df = pd.read_parquet(filename)\n",
    "    \n",
    "    categorical = ['PULocationID', 'DOLocationID']\n",
    "    df[categorical] = df[categorical].astype(str)\n",
    "\n",
    "    df['duration'] = pd.to_datetime(df[dropoff_time_column]) - pd.to_datetime(df[pickup_time_column])\n",
    "    df.duration = df.duration.apply(lambda td: td.total_seconds() / 60)\n",
    "    \n",
    "    if filter_data:\n",
    "        df = df[(df.duration >= 1) & (df.duration <= 60)]\n",
    "    \n",
    "    return df"
   ]
  },
  {
   "cell_type": "code",
   "execution_count": null,
   "id": "47f280a8",
   "metadata": {},
   "outputs": [],
   "source": [
    "def pre_process_data(df):\n",
    "    \n",
    "    df['PO_DO'] = df['PULocationID'] + '_' + df['DOLocationID']\n",
    "    \n",
    "    categorical = ['PO_DO'] #['PULocationID', 'DOLocationID']\n",
    "    numerical = ['trip_distance']\n",
    "    x_dict = df[categorical + numerical].to_dict(orient='records')\n",
    "    \n",
    "    target = 'duration'\n",
    "    y = df[target].values\n",
    "    \n",
    "    return x_dict, y"
   ]
  },
  {
   "cell_type": "code",
   "execution_count": null,
   "id": "9a0554e7",
   "metadata": {},
   "outputs": [],
   "source": [
    "dv = DictVectorizer()\n",
    "\n",
    "df_train = read_data('../data/yellow_tripdata_2021-01.parquet', 'lpep_pickup_datetime', 'lpep_dropoff_datetime')\n",
    "train_dict, y_train = pre_process_data(df_train)\n",
    "x_train = dv.fit_transform(train_dict)\n",
    "\n",
    "df_val = read_data('../data/yellow_tripdata_2021-02.parquet', 'lpep_pickup_datetime', 'lpep_dropoff_datetime')\n",
    "val_dict, y_val = pre_process_data(df_val)\n",
    "x_val = dv.transform(val_dict)"
   ]
  },
  {
   "cell_type": "code",
   "execution_count": null,
   "id": "57067844",
   "metadata": {},
   "outputs": [],
   "source": [
    "lr = LinearRegression()\n",
    "lr.fit(x_train, y_train)"
   ]
  },
  {
   "cell_type": "code",
   "execution_count": null,
   "id": "ad0f45ce",
   "metadata": {},
   "outputs": [],
   "source": [
    "y_pred = lr.predict(x_val)\n",
    "sns.distplot(y_val, label='actual')\n",
    "sns.distplot(y_pred, label='prediction')\n",
    "plt.legend()"
   ]
  },
  {
   "cell_type": "code",
   "execution_count": null,
   "id": "e475c55b",
   "metadata": {},
   "outputs": [],
   "source": [
    "mean_squared_error(y_val, y_pred, squared=False)"
   ]
  },
  {
   "cell_type": "code",
   "execution_count": null,
   "id": "1aae787a",
   "metadata": {},
   "outputs": [],
   "source": [
    "mean_squared_error(y_train, y_pred, squared=False)"
   ]
  },
  {
   "cell_type": "code",
   "execution_count": null,
   "id": "9c9b8372",
   "metadata": {},
   "outputs": [],
   "source": [
    "with open('../models/lin_reg.bin', 'wb') as f_out:\n",
    "    pickle.dump((dv, lr), f_out)"
   ]
  },
  {
   "cell_type": "markdown",
   "id": "e7e052cd",
   "metadata": {},
   "source": [
    "## Homework Code"
   ]
  },
  {
   "cell_type": "code",
   "execution_count": 15,
   "id": "1fc2f432",
   "metadata": {},
   "outputs": [
    {
     "data": {
      "text/plain": [
       "19"
      ]
     },
     "execution_count": 15,
     "metadata": {},
     "output_type": "execute_result"
    }
   ],
   "source": [
    "df = pd.read_parquet('../data/yellow_tripdata_2023-01.parquet')\n",
    "len(df.columns)"
   ]
  },
  {
   "cell_type": "code",
   "execution_count": 18,
   "id": "91b642f1",
   "metadata": {},
   "outputs": [
    {
     "data": {
      "text/plain": [
       "count    3.066766e+06\n",
       "mean     1.566900e+01\n",
       "std      4.259435e+01\n",
       "min     -2.920000e+01\n",
       "25%      7.116667e+00\n",
       "50%      1.151667e+01\n",
       "75%      1.830000e+01\n",
       "max      1.002918e+04\n",
       "Name: duration, dtype: float64"
      ]
     },
     "execution_count": 18,
     "metadata": {},
     "output_type": "execute_result"
    }
   ],
   "source": [
    "df = read_data(\n",
    "    '../data/yellow_tripdata_2023-01.parquet',\n",
    "    'tpep_pickup_datetime',\n",
    "    'tpep_dropoff_datetime',\n",
    "    filter_data=False)\n",
    "df.duration.describe()"
   ]
  },
  {
   "cell_type": "code",
   "execution_count": 19,
   "id": "d1dc6e57",
   "metadata": {},
   "outputs": [
    {
     "data": {
      "text/plain": [
       "0.9812202822125979"
      ]
     },
     "execution_count": 19,
     "metadata": {},
     "output_type": "execute_result"
    }
   ],
   "source": [
    "filtered_df = read_data(\n",
    "    '../data/yellow_tripdata_2023-01.parquet',\n",
    "    'tpep_pickup_datetime',\n",
    "    'tpep_dropoff_datetime')\n",
    "len(filtered_df) / len(df)"
   ]
  },
  {
   "cell_type": "code",
   "execution_count": 27,
   "id": "71586c07",
   "metadata": {},
   "outputs": [
    {
     "data": {
      "text/plain": [
       "<3009173x515 sparse matrix of type '<class 'numpy.float64'>'\n",
       "\twith 6018346 stored elements in Compressed Sparse Row format>"
      ]
     },
     "execution_count": 27,
     "metadata": {},
     "output_type": "execute_result"
    }
   ],
   "source": [
    "categorical = ['PULocationID', 'DOLocationID']\n",
    "features = filtered_df[categorical].to_dict(orient='records')\n",
    "dv = DictVectorizer()\n",
    "features = dv.fit_transform(features)\n",
    "features"
   ]
  },
  {
   "cell_type": "code",
   "execution_count": 28,
   "id": "6ea3f8d9",
   "metadata": {},
   "outputs": [
    {
     "data": {
      "text/plain": [
       "7.6492610279057605"
      ]
     },
     "execution_count": 28,
     "metadata": {},
     "output_type": "execute_result"
    }
   ],
   "source": [
    "labels = filtered_df.duration\n",
    "lr = LinearRegression()\n",
    "lr.fit(features, labels)\n",
    "y_pred = lr.predict(features)\n",
    "mean_squared_error(labels, y_pred, squared=False)"
   ]
  },
  {
   "cell_type": "code",
   "execution_count": null,
   "id": "3c56da75",
   "metadata": {},
   "outputs": [],
   "source": [
    "df_val = read_data(\n",
    "    '../data/yellow_tripdata_2023-02.parquet',\n",
    "    'tpep_pickup_datetime',\n",
    "    'tpep_dropoff_datetime')\n",
    "features_val = df_val[categorical].to_dict(orient='records')\n",
    "features_val = dv.transform(features_val)\n",
    "labels_val = df_val.duration\n",
    "lr.predict(features_val)\n",
    "y_val = lr.predict(features)\n",
    "mean_squared_error(labels_val, y_val, squared=False)"
   ]
  },
  {
   "cell_type": "code",
   "execution_count": 25,
   "id": "f6457767",
   "metadata": {},
   "outputs": [
    {
     "data": {
      "text/plain": [
       "<3009173x515 sparse matrix of type '<class 'numpy.float64'>'\n",
       "\twith 6018346 stored elements in Compressed Sparse Row format>"
      ]
     },
     "execution_count": 25,
     "metadata": {},
     "output_type": "execute_result"
    }
   ],
   "source": [
    "features"
   ]
  },
  {
   "cell_type": "code",
   "execution_count": null,
   "id": "5dd0410b",
   "metadata": {},
   "outputs": [],
   "source": []
  }
 ],
 "metadata": {
  "kernelspec": {
   "display_name": "Python 3 (ipykernel)",
   "language": "python",
   "name": "python3"
  },
  "language_info": {
   "codemirror_mode": {
    "name": "ipython",
    "version": 3
   },
   "file_extension": ".py",
   "mimetype": "text/x-python",
   "name": "python",
   "nbconvert_exporter": "python",
   "pygments_lexer": "ipython3",
   "version": "3.9.12"
  }
 },
 "nbformat": 4,
 "nbformat_minor": 5
}
